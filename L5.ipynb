{
 "cells": [
  {
   "cell_type": "markdown",
   "metadata": {},
   "source": [
    "---\n",
    "## Asignaciones\n",
    "\n",
    "La administración del servicio desea ahora que el servidor no esté vacío (sin atender solicitudes) más del 10% del tiempo. Hallar el parámetro $\\nu$ para satisfacer este requisito y modificar el código para medir la variable de interés en una simulación.\n",
    "\n",
    "---\n",
    "Para este caso de estudio sería:\n",
    "\n",
    "$$\n",
    "\\begin{aligned}\n",
    "P( \\text{Cuando hay 1 o más clientes en el sistema} ) = \\rho^1 & = \\left( \\frac{\\lambda}{\\nu} \\right)^1 \\geq 0.9 \\\\\n",
    "\\nu^5 & \\leq \\frac{\\lambda^1}{0.9} = \\frac{2^1}{0.9} = 2.2 \\quad \\Rightarrow \\quad \\nu \\geq 2.22\n",
    "\\end{aligned}\n",
    "$$"
   ]
  },
  {
   "cell_type": "code",
   "execution_count": 1,
   "metadata": {},
   "outputs": [
    {
     "name": "stdout",
     "output_type": "stream",
     "text": [
      "Parámetro lambda = 2.0\n",
      "Parámetro nu = 2.22\n",
      "El tiempo que en el habrá al menos una persona en el sistema:\n",
      "\t 93.61%\n",
      "\t No cumple con la especificación.\n",
      "Simulación es equivalente a 8.57 horas.\n"
     ]
    },
    {
     "data": {
      "image/png": "[encoded data removed]",
      "text/plain": [
       "<Figure size 432x288 with 1 Axes>"
      ]
     },
     "metadata": {
      "needs_background": "light"
     },
     "output_type": "display_data"
    }
   ],
   "source": [
    "import numpy as np\n",
    "from scipy import stats\n",
    "import matplotlib.pyplot as plt\n",
    "\n",
    "# Número de clientes\n",
    "N = 1000\n",
    "\n",
    "# Parámetro de llegada (clientes/segundos)\n",
    "lam = 2/60\n",
    "\n",
    "# Parámetro de servicio (servicios/segundos)\n",
    "nu = 2.22/60\n",
    "\n",
    "# Distribución de los tiempos de llegada entre cada cliente\n",
    "X = stats.expon(scale = 1/lam)\n",
    "\n",
    "# Distribución de los tiempos de servicio a cada cliente\n",
    "Y = stats.expon(scale = 1/nu)\n",
    "\n",
    "# Intervalos entre llegadas (segundos desde último cliente)\n",
    "t_intervalos = np.ceil(X.rvs(N)).astype('int')\n",
    "\n",
    "# Tiempos de las llegadas (segundos desde el inicio)\n",
    "t_llegadas = [t_intervalos[0]]\n",
    "for i in range(1, len(t_intervalos)):\n",
    "    siguiente = t_llegadas[i-1] + t_intervalos[i]\n",
    "    t_llegadas.append(siguiente)\n",
    "\n",
    "# Tiempos de servicio (segundos desde inicio de servicio)\n",
    "t_servicio = np.ceil(Y.rvs(N)).astype('int')\n",
    "\n",
    "# Inicialización del tiempo de inicio y fin de atención\n",
    "inicio = t_llegadas[0]          # primera llegada\n",
    "fin = inicio + t_servicio[0]    # primera salida\n",
    "\n",
    "# Tiempos en que recibe atención cada i-ésimo cliente (!= que llega)\n",
    "t_atencion = [inicio]\n",
    "for i in range(1, N):\n",
    "    inicio = np.max((t_llegadas[i], fin))\n",
    "    fin = inicio + t_servicio[i]\n",
    "    t_atencion.append(inicio)\n",
    "\n",
    "# Inicialización del vector temporal para registrar eventos\n",
    "t = np.zeros(t_atencion[-1] + t_servicio[-1] + 1)\n",
    "\n",
    "# Asignación de eventos de llegada (+1) y salida (-1) de clientes\n",
    "for c in range(N):\n",
    "    i = t_llegadas[c]\n",
    "    t[i] += 1\n",
    "    j = t_atencion[c] + t_servicio[c]\n",
    "    t[j] -= 1\n",
    "\n",
    "# Umbral de P o más personas en sistema (hay P - 1 en fila)\n",
    "P = 1\n",
    "\n",
    "# Instantes (segundos) de tiempo con P o más solicitudes en sistema\n",
    "frecuencia = 0\n",
    "\n",
    "# Proceso aleatorio (estados n = {0, 1, 2...})\n",
    "Xt = np.zeros(t.shape)\n",
    "\n",
    "# Inicialización de estado n\n",
    "n = 0\n",
    "\n",
    "# Recorrido del vector temporal y conteo de clientes (estado n)\n",
    "for i, c in enumerate(t):\n",
    "    n += c # sumar (+1) o restar (-1) al estado\n",
    "    Xt[i] = n\n",
    "    if Xt[i] >= P: \n",
    "        frecuencia += 1\n",
    "\n",
    "# Fracción de tiempo con P o más solicitudes en sistema\n",
    "fraccion = frecuencia / len(t)\n",
    "\n",
    "# Resultados\n",
    "print('Parámetro lambda =', str(lam*60))\n",
    "print('Parámetro nu =', str(nu*60))\n",
    "print('El tiempo que en el habrá al menos una persona en el sistema:'.format(P-1))\n",
    "print('\\t {:0.2f}%'.format(100*fraccion))\n",
    "if fraccion <= 0.1:\n",
    "    print('\\t Sí cumple con la especificación.')\n",
    "else:\n",
    "    print('\\t No cumple con la especificación.') \n",
    "print('Simulación es equivalente a {:0.2f} horas.'.format(len(t)/3600))\n",
    "\n",
    "# Gráfica de X(t) (estados del sistema)\n",
    "plt.figure()\n",
    "plt.plot(Xt, color= 'crimson')\n",
    "plt.plot(range(len(t)), (P)*np.ones(t.shape), color= 'lime')\n",
    "plt.legend(('$X(t) = n$', 'Personas Sistema = ' + str(P)))\n",
    "plt.ylabel('Clientes en el sistema, $n$')\n",
    "plt.xlabel('Tiempo, $t$ / segundos')\n",
    "plt.show()"
   ]
  },
  {
   "cell_type": "code",
   "execution_count": null,
   "metadata": {},
   "outputs": [],
   "source": []
  }
 ],
 "metadata": {
  "kernelspec": {
   "display_name": "Python 3",
   "language": "python",
   "name": "python3"
  },
  "language_info": {
   "codemirror_mode": {
    "name": "ipython",
    "version": 3
   },
   "file_extension": ".py",
   "mimetype": "text/x-python",
   "name": "python",
   "nbconvert_exporter": "python",
   "pygments_lexer": "ipython3",
   "version": "3.8.3"
  }
 },
 "nbformat": 4,
 "nbformat_minor": 4
}
